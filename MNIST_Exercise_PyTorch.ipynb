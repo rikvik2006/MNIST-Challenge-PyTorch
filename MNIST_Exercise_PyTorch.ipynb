{
  "nbformat": 4,
  "nbformat_minor": 0,
  "metadata": {
    "colab": {
      "provenance": [],
      "gpuType": "T4",
      "include_colab_link": true
    },
    "kernelspec": {
      "name": "python3",
      "display_name": "Python 3"
    },
    "language_info": {
      "name": "python"
    },
    "accelerator": "GPU"
  },
  "cells": [
    {
      "cell_type": "markdown",
      "metadata": {
        "id": "view-in-github",
        "colab_type": "text"
      },
      "source": [
        "<a href=\"https://colab.research.google.com/github/rikvik2006/MNIST-Challenge-PyTorch/blob/master/MNIST_Exercise_PyTorch.ipynb\" target=\"_parent\"><img src=\"https://colab.research.google.com/assets/colab-badge.svg\" alt=\"Open In Colab\"/></a>"
      ]
    },
    {
      "cell_type": "markdown",
      "source": [
        "# Installiamo le Dipendenze\n",
        "Di default Google Collab ha gia installato le dipendenze che ci servono"
      ],
      "metadata": {
        "id": "gNYctyXq7TE0"
      }
    },
    {
      "cell_type": "markdown",
      "source": [
        "## Imports\n",
        "Importiamo i moduli che ci servono, dobbiamo importare torch, come libreria pricipale e poi la libreria torchvision, e da questa importiamo i 2 package datasets, e transforms"
      ],
      "metadata": {
        "id": "m2FxZ9v6IOOK"
      }
    },
    {
      "cell_type": "code",
      "execution_count": 1,
      "metadata": {
        "id": "QW38jwIK4DE3"
      },
      "outputs": [],
      "source": [
        "import torch\n",
        "from torchvision import datasets, transforms"
      ]
    },
    {
      "cell_type": "code",
      "source": [
        "import torch.nn as nn\n",
        "import torch.nn.functional as F"
      ],
      "metadata": {
        "id": "S6fmde6oLE4-"
      },
      "execution_count": 2,
      "outputs": []
    },
    {
      "cell_type": "markdown",
      "source": [
        "## Import per aggiustare i weights"
      ],
      "metadata": {
        "id": "g13eIRtj0MXg"
      }
    },
    {
      "cell_type": "code",
      "source": [
        "import torch.optim as optim"
      ],
      "metadata": {
        "id": "5qFZs-Mx0GeX"
      },
      "execution_count": 3,
      "outputs": []
    },
    {
      "cell_type": "markdown",
      "source": [
        "Importiamo matploitlib per la visualizzazzione delle immagini"
      ],
      "metadata": {
        "id": "MLJ06GUZ5Mx7"
      }
    },
    {
      "cell_type": "code",
      "source": [
        "import matplotlib.pyplot as plt"
      ],
      "metadata": {
        "id": "em4G8XqY5UHe"
      },
      "execution_count": 4,
      "outputs": []
    },
    {
      "cell_type": "markdown",
      "source": [
        "## Controliamo se la GPU è disponibile"
      ],
      "metadata": {
        "id": "Z6EojGF2pceP"
      }
    },
    {
      "cell_type": "code",
      "source": [
        "device = torch.device(\"cuda\" if torch.cuda.is_available() else \"cpu\")\n",
        "print(\"🖥️\", device)"
      ],
      "metadata": {
        "colab": {
          "base_uri": "https://localhost:8080/"
        },
        "id": "KlR6eiO5pcCE",
        "outputId": "4c873f71-4633-43dd-b50f-4dce63958a8e"
      },
      "execution_count": 5,
      "outputs": [
        {
          "output_type": "stream",
          "name": "stdout",
          "text": [
            "🖥️ cuda\n"
          ]
        }
      ]
    },
    {
      "cell_type": "markdown",
      "source": [
        "# Neural Network Classes\n",
        "Creiamo la classe della rete neurale, le classi delle reti neurali devono ereditare tutte dalla classe `nn.Module` che è la classe di base delle classi delle neural network.\n",
        "\n",
        "\n"
      ],
      "metadata": {
        "id": "COCfyoxoO5_D"
      }
    },
    {
      "cell_type": "code",
      "source": [
        "class Network(nn.Module):\n",
        "  def __init__(self):\n",
        "    super().__init__()\n",
        "    # Immagine 28x28 = 784\n",
        "\n",
        "    # Creiamo delle proprietà per che equivalgono ad ogni layer della rete neurale\n",
        "    # Ogni neurone ha bisono di definire una funzione, noi utilizziamo la funzione Lineare\n",
        "    # La funzione richiede come primo argomento il numero di neuroni in entrata, mentre il secondo paramentro indica i dati di output che devono uscire da ogni neurone\n",
        "    self.inputLayer = nn.Linear(784, 64)\n",
        "    # Ora definiamo\n",
        "    self.hidden1 = nn.Linear(64, 64)  # Hidden 1 richide un tesore con 64 elemneti e restituisce un tesore con 64 elementi\n",
        "    self.hidden2 = nn.Linear(64, 64)\n",
        "    self.ouputLayer = nn.Linear(64, 10)\n",
        "\n",
        "  def forward(self, data):\n",
        "    data = F.relu(self.inputLayer(data))\n",
        "    data = F.relu(self.hidden1(data))\n",
        "    data = F.relu(self.hidden2(data))\n",
        "    data = self.ouputLayer(data)\n",
        "\n",
        "    return F.log_softmax(data, dim=1)"
      ],
      "metadata": {
        "id": "TLGqJqWdLOYE"
      },
      "execution_count": 6,
      "outputs": []
    },
    {
      "cell_type": "code",
      "source": [
        "trainingData = datasets.MNIST(\"\", train=True, download=True, transform=transforms.ToTensor());\n",
        "testingData = datasets.MNIST(\"\", train=False, download=True, transform=transforms.Compose([transforms.ToTensor()]))"
      ],
      "metadata": {
        "id": "1Ktoio6vBrnG",
        "colab": {
          "base_uri": "https://localhost:8080/"
        },
        "outputId": "a1c24763-a62b-4c1a-e3bf-7a11a6d3495d"
      },
      "execution_count": 7,
      "outputs": [
        {
          "output_type": "stream",
          "name": "stdout",
          "text": [
            "Downloading http://yann.lecun.com/exdb/mnist/train-images-idx3-ubyte.gz\n",
            "Downloading http://yann.lecun.com/exdb/mnist/train-images-idx3-ubyte.gz to MNIST/raw/train-images-idx3-ubyte.gz\n"
          ]
        },
        {
          "output_type": "stream",
          "name": "stderr",
          "text": [
            "100%|██████████| 9912422/9912422 [00:00<00:00, 291792139.78it/s]"
          ]
        },
        {
          "output_type": "stream",
          "name": "stdout",
          "text": [
            "Extracting MNIST/raw/train-images-idx3-ubyte.gz to MNIST/raw\n"
          ]
        },
        {
          "output_type": "stream",
          "name": "stderr",
          "text": [
            "\n"
          ]
        },
        {
          "output_type": "stream",
          "name": "stdout",
          "text": [
            "\n",
            "Downloading http://yann.lecun.com/exdb/mnist/train-labels-idx1-ubyte.gz\n",
            "Downloading http://yann.lecun.com/exdb/mnist/train-labels-idx1-ubyte.gz to MNIST/raw/train-labels-idx1-ubyte.gz\n"
          ]
        },
        {
          "output_type": "stream",
          "name": "stderr",
          "text": [
            "100%|██████████| 28881/28881 [00:00<00:00, 30021237.63it/s]\n"
          ]
        },
        {
          "output_type": "stream",
          "name": "stdout",
          "text": [
            "Extracting MNIST/raw/train-labels-idx1-ubyte.gz to MNIST/raw\n",
            "\n",
            "Downloading http://yann.lecun.com/exdb/mnist/t10k-images-idx3-ubyte.gz\n",
            "Downloading http://yann.lecun.com/exdb/mnist/t10k-images-idx3-ubyte.gz to MNIST/raw/t10k-images-idx3-ubyte.gz\n"
          ]
        },
        {
          "output_type": "stream",
          "name": "stderr",
          "text": [
            "100%|██████████| 1648877/1648877 [00:00<00:00, 150659885.77it/s]"
          ]
        },
        {
          "output_type": "stream",
          "name": "stdout",
          "text": [
            "Extracting MNIST/raw/t10k-images-idx3-ubyte.gz to MNIST/raw\n",
            "\n",
            "Downloading http://yann.lecun.com/exdb/mnist/t10k-labels-idx1-ubyte.gz\n"
          ]
        },
        {
          "output_type": "stream",
          "name": "stderr",
          "text": [
            "\n"
          ]
        },
        {
          "output_type": "stream",
          "name": "stdout",
          "text": [
            "Downloading http://yann.lecun.com/exdb/mnist/t10k-labels-idx1-ubyte.gz to MNIST/raw/t10k-labels-idx1-ubyte.gz\n"
          ]
        },
        {
          "output_type": "stream",
          "name": "stderr",
          "text": [
            "100%|██████████| 4542/4542 [00:00<00:00, 3749366.02it/s]"
          ]
        },
        {
          "output_type": "stream",
          "name": "stdout",
          "text": [
            "Extracting MNIST/raw/t10k-labels-idx1-ubyte.gz to MNIST/raw\n",
            "\n"
          ]
        },
        {
          "output_type": "stream",
          "name": "stderr",
          "text": [
            "\n"
          ]
        }
      ]
    },
    {
      "cell_type": "code",
      "source": [
        "trainSet = torch.utils.data.DataLoader(trainingData, batch_size=10, shuffle=True)\n",
        "testSet = torch.utils.data.DataLoader(testingData, batch_size=10, shuffle=True)"
      ],
      "metadata": {
        "id": "AVv-JIeBHYkO"
      },
      "execution_count": 8,
      "outputs": []
    },
    {
      "cell_type": "markdown",
      "source": [
        "# Instanziamo la rete neurale"
      ],
      "metadata": {
        "id": "XG__CxObzsqX"
      }
    },
    {
      "cell_type": "code",
      "source": [
        "network = Network().to(device)"
      ],
      "metadata": {
        "id": "lrmyt-m8zsW2"
      },
      "execution_count": 9,
      "outputs": []
    },
    {
      "cell_type": "markdown",
      "source": [
        "# Learning process\n"
      ],
      "metadata": {
        "id": "3ZxGyt-v05jb"
      }
    },
    {
      "cell_type": "code",
      "source": [
        "learningRate = optim.Adam(network.parameters(), lr=0.01)\n",
        "epochs = 4"
      ],
      "metadata": {
        "id": "qQWvak7V0-vs"
      },
      "execution_count": null,
      "outputs": []
    },
    {
      "cell_type": "code",
      "source": [
        "for i in range(epochs):\n",
        "  for images, labels in trainSet:\n",
        "    # images, labels = data                             # Data is a tuple containg the batch, one is an array containg 10 (as the batch size)\n",
        "                                                        # tensor of the images, and the other is an array containg the 10 labels that are the\n",
        "                                                        # numbers write in the images\n",
        "    images, labels = images.to(device), labels.to(device)\n",
        "\n",
        "    network.zero_grad()\n",
        "    outputs = network(images.view(-1, 784))\n",
        "    # print(\"⚪\", result)\n",
        "    # print(\"🔢\", labels)\n",
        "    # print (f\"🧪 ({result.shape} : {labels.shape})\")\n",
        "    loss = F.nll_loss(outputs, labels)\n",
        "    # print(\"🔵\", loss)\n",
        "    loss.backward()\n",
        "    # print(\"🔵\", loss)\n",
        "    learningRate.step()\n",
        "    plt.imshow(images[0].cpu().view(28,28))\n",
        "  print(\"🟣\", loss)\n",
        "\n",
        "    # print(\"---------------\")\n",
        "    # print(image)\n",
        "    # print(\"---------------\")\n",
        "    # print(output)\n",
        "    # print(\"---------------\")\n",
        "    # break"
      ],
      "metadata": {
        "colab": {
          "base_uri": "https://localhost:8080/",
          "height": 499
        },
        "id": "WD4VuQJb2v93",
        "outputId": "1a4bf91a-2234-4fa1-8868-6dcab3b6c860"
      },
      "execution_count": null,
      "outputs": [
        {
          "output_type": "stream",
          "name": "stdout",
          "text": [
            "🟣 tensor(0.4029, device='cuda:0', grad_fn=<NllLossBackward0>)\n",
            "🟣 tensor(3.1166, device='cuda:0', grad_fn=<NllLossBackward0>)\n",
            "🟣 tensor(0.2646, device='cuda:0', grad_fn=<NllLossBackward0>)\n",
            "🟣 tensor(0.0151, device='cuda:0', grad_fn=<NllLossBackward0>)\n"
          ]
        },
        {
          "output_type": "display_data",
          "data": {
            "text/plain": [
              "<Figure size 640x480 with 1 Axes>"
            ],
            "image/png": "[encoded data removed]"
          },
          "metadata": {}
        }
      ]
    },
    {
      "cell_type": "markdown",
      "source": [
        "# Save the weights"
      ],
      "metadata": {
        "id": "C3dDDCZRReeS"
      }
    },
    {
      "cell_type": "code",
      "source": [
        "weight_version = 0"
      ],
      "metadata": {
        "id": "5Orz9eO3sOC3"
      },
      "execution_count": null,
      "outputs": []
    },
    {
      "cell_type": "code",
      "source": [
        "# Salva i pesi del modello in un file (cwd: /content)\n",
        "weight_version += 1\n",
        "torch.save(network.state_dict(), f'MNIST_model_weights.pth.v{weight_version}')\n",
        "print(\"Pesi del modello salvati.\")"
      ],
      "metadata": {
        "colab": {
          "base_uri": "https://localhost:8080/"
        },
        "id": "CL3HtDJqsKD1",
        "outputId": "4cb337d5-8956-4d7a-e919-b775c3f0b527"
      },
      "execution_count": null,
      "outputs": [
        {
          "output_type": "stream",
          "name": "stdout",
          "text": [
            "Pesi del modello salvati.\n"
          ]
        }
      ]
    },
    {
      "cell_type": "markdown",
      "source": [
        "# Load the weights"
      ],
      "metadata": {
        "id": "55lJPaGmRiW1"
      }
    },
    {
      "cell_type": "code",
      "source": [
        "# Carica i pesi del modello da un file\n",
        "network.load_state_dict(torch.load('MNIST_model_weights.pth', map_location=device))\n",
        "print(\"Pesi del modello caricati.\")"
      ],
      "metadata": {
        "colab": {
          "base_uri": "https://localhost:8080/"
        },
        "id": "dC2jOfNURkOu",
        "outputId": "9806b852-e127-4e60-a03a-e7b1bebc39c7"
      },
      "execution_count": 12,
      "outputs": [
        {
          "output_type": "stream",
          "name": "stdout",
          "text": [
            "Pesi del modello caricati.\n"
          ]
        }
      ]
    },
    {
      "cell_type": "code",
      "source": [
        "correct = 0\n",
        "total = 0\n",
        "\n",
        "with torch.no_grad():\n",
        "  for images, labels in testSet:\n",
        "    images, labels = images.to(device), labels.to(device)\n",
        "    # print(\"🟩\", images)\n",
        "    # print(\"🔢\", labels)\n",
        "    result = network(images.view(-1, 784))\n",
        "    # print(\"⚪\", result)\n",
        "    for index, tensorValue in enumerate(result):\n",
        "      total += 1\n",
        "      if torch.argmax(tensorValue) == labels[index]:\n",
        "        correct += 1\n",
        "\n",
        "accuracy = correct / total\n",
        "accuracyPercentage = accuracy * 100\n",
        "print(f\"Accuracy {accuracy}, Accuracy Percetage {accuracyPercentage}%\")"
      ],
      "metadata": {
        "id": "PgOK9xvf4AjR",
        "colab": {
          "base_uri": "https://localhost:8080/"
        },
        "outputId": "c55cff38-706b-4dc0-84de-fdf9f1e781e3"
      },
      "execution_count": 13,
      "outputs": [
        {
          "output_type": "stream",
          "name": "stdout",
          "text": [
            "Accuracy 0.9317, Accuracy Percetage 93.17%\n"
          ]
        }
      ]
    },
    {
      "cell_type": "markdown",
      "source": [
        "### Importiamo Pillow per importare le immagini con in numeri 28x28 create dai noi\n"
      ],
      "metadata": {
        "id": "aXxdLE4rljVJ"
      }
    },
    {
      "cell_type": "code",
      "source": [
        "from PIL import Image\n",
        "import PIL.ImageOps\n",
        "import numpy as np\n",
        "\n",
        "network.eval()\n",
        "image = Image.open(\"imgTest3.png\")\n",
        "image = image.resize((28, 28)).convert(\"L\")       # Resize the image and convert to grayscale\n",
        "image = PIL.ImageOps.invert(image)\n",
        "\n",
        "plt.imshow(image)\n",
        "\n",
        "image = np.array(image)\n",
        "image = image / 255                               # Normalize the array image beetween 0 and 1\n",
        "image = torch.from_numpy(image)                   # Transform the numpy array in a torch tensor\n",
        "image = image.float()\n",
        "image = image.to(device)                          # Convert the tensor to a float tensor\n",
        "\n",
        "with torch.no_grad():\n",
        "  result = network.forward(image.view(-1, 28*28)) # Change the shape of a thesor i a matrix with n array with 28*28 elements\n",
        "  prediction = torch.argmax(result)\n",
        "  print(prediction)\n",
        "  predicted_number = prediction.item()\n",
        "  print(\"Predicted number\", predicted_number)"
      ],
      "metadata": {
        "id": "y8V0AjVSlwp5",
        "colab": {
          "base_uri": "https://localhost:8080/",
          "height": 465
        },
        "outputId": "4f796a1d-11b4-40b5-94cd-eddf6b1729cd"
      },
      "execution_count": 21,
      "outputs": [
        {
          "output_type": "stream",
          "name": "stdout",
          "text": [
            "tensor(3, device='cuda:0')\n",
            "Predicted number 3\n"
          ]
        },
        {
          "output_type": "display_data",
          "data": {
            "text/plain": [
              "<Figure size 640x480 with 1 Axes>"
            ],
            "image/png": "[encoded data removed]"
          },
          "metadata": {}
        }
      ]
    }
  ]
}
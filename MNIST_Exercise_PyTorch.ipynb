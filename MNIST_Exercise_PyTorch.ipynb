{
  "nbformat": 4,
  "nbformat_minor": 0,
  "metadata": {
    "colab": {
      "provenance": [],
      "gpuType": "T4",
      "include_colab_link": true
    },
    "kernelspec": {
      "name": "python3",
      "display_name": "Python 3"
    },
    "language_info": {
      "name": "python"
    }
  },
  "cells": [
    {
      "cell_type": "markdown",
      "metadata": {
        "id": "view-in-github",
        "colab_type": "text"
      },
      "source": [
        "<a href=\"https://colab.research.google.com/github/rikvik2006/MNIST-Challenge-PyTorch/blob/master/MNIST_Exercise_PyTorch.ipynb\" target=\"_parent\"><img src=\"https://colab.research.google.com/assets/colab-badge.svg\" alt=\"Open In Colab\"/></a>"
      ]
    },
    {
      "cell_type": "markdown",
      "source": [
        "# Installiamo le Dipendenze\n",
        "Di default Google Collab ha gia installato le dipendenze che ci servono"
      ],
      "metadata": {
        "id": "gNYctyXq7TE0"
      }
    },
    {
      "cell_type": "code",
      "source": [
        "!pip install torch torchvision torchaudio"
      ],
      "metadata": {
        "id": "ALfLzUwQ5y59",
        "colab": {
          "base_uri": "https://localhost:8080/"
        },
        "outputId": "8d07b54b-eb8a-42ca-9340-e1f35a255f0b"
      },
      "execution_count": null,
      "outputs": [
        {
          "output_type": "stream",
          "name": "stdout",
          "text": [
            "Requirement already satisfied: torch in /usr/local/lib/python3.10/dist-packages (2.0.1+cu118)\n",
            "Requirement already satisfied: torchvision in /usr/local/lib/python3.10/dist-packages (0.15.2+cu118)\n",
            "Requirement already satisfied: torchaudio in /usr/local/lib/python3.10/dist-packages (2.0.2+cu118)\n",
            "Requirement already satisfied: filelock in /usr/local/lib/python3.10/dist-packages (from torch) (3.12.2)\n",
            "Requirement already satisfied: typing-extensions in /usr/local/lib/python3.10/dist-packages (from torch) (4.7.1)\n",
            "Requirement already satisfied: sympy in /usr/local/lib/python3.10/dist-packages (from torch) (1.11.1)\n",
            "Requirement already satisfied: networkx in /usr/local/lib/python3.10/dist-packages (from torch) (3.1)\n",
            "Requirement already satisfied: jinja2 in /usr/local/lib/python3.10/dist-packages (from torch) (3.1.2)\n",
            "Requirement already satisfied: triton==2.0.0 in /usr/local/lib/python3.10/dist-packages (from torch) (2.0.0)\n",
            "Requirement already satisfied: cmake in /usr/local/lib/python3.10/dist-packages (from triton==2.0.0->torch) (3.25.2)\n",
            "Requirement already satisfied: lit in /usr/local/lib/python3.10/dist-packages (from triton==2.0.0->torch) (16.0.6)\n",
            "Requirement already satisfied: numpy in /usr/local/lib/python3.10/dist-packages (from torchvision) (1.22.4)\n",
            "Requirement already satisfied: requests in /usr/local/lib/python3.10/dist-packages (from torchvision) (2.27.1)\n",
            "Requirement already satisfied: pillow!=8.3.*,>=5.3.0 in /usr/local/lib/python3.10/dist-packages (from torchvision) (9.4.0)\n",
            "Requirement already satisfied: MarkupSafe>=2.0 in /usr/local/lib/python3.10/dist-packages (from jinja2->torch) (2.1.3)\n",
            "Requirement already satisfied: urllib3<1.27,>=1.21.1 in /usr/local/lib/python3.10/dist-packages (from requests->torchvision) (1.26.16)\n",
            "Requirement already satisfied: certifi>=2017.4.17 in /usr/local/lib/python3.10/dist-packages (from requests->torchvision) (2023.7.22)\n",
            "Requirement already satisfied: charset-normalizer~=2.0.0 in /usr/local/lib/python3.10/dist-packages (from requests->torchvision) (2.0.12)\n",
            "Requirement already satisfied: idna<4,>=2.5 in /usr/local/lib/python3.10/dist-packages (from requests->torchvision) (3.4)\n",
            "Requirement already satisfied: mpmath>=0.19 in /usr/local/lib/python3.10/dist-packages (from sympy->torch) (1.3.0)\n"
          ]
        }
      ]
    },
    {
      "cell_type": "markdown",
      "source": [
        "## Imports\n",
        "Importiamo i moduli che ci servono, dobbiamo importare torch, come libreria pricipale e poi la libreria torchvision, e da questa importiamo i 2 package datasets, e transforms"
      ],
      "metadata": {
        "id": "m2FxZ9v6IOOK"
      }
    },
    {
      "cell_type": "code",
      "execution_count": 1,
      "metadata": {
        "id": "QW38jwIK4DE3"
      },
      "outputs": [],
      "source": [
        "import torch\n",
        "from torchvision import datasets, transforms"
      ]
    },
    {
      "cell_type": "code",
      "source": [
        "import torch.nn as nn\n",
        "import torch.nn.functional as F"
      ],
      "metadata": {
        "id": "S6fmde6oLE4-"
      },
      "execution_count": 2,
      "outputs": []
    },
    {
      "cell_type": "markdown",
      "source": [
        "## Import per aggiustare i weights"
      ],
      "metadata": {
        "id": "g13eIRtj0MXg"
      }
    },
    {
      "cell_type": "code",
      "source": [
        "import torch.optim as optim"
      ],
      "metadata": {
        "id": "5qFZs-Mx0GeX"
      },
      "execution_count": 3,
      "outputs": []
    },
    {
      "cell_type": "markdown",
      "source": [
        "Importiamo matploitlib per la visualizzazzione delle immagini"
      ],
      "metadata": {
        "id": "MLJ06GUZ5Mx7"
      }
    },
    {
      "cell_type": "code",
      "source": [
        "import matplotlib.pyplot as plt"
      ],
      "metadata": {
        "id": "em4G8XqY5UHe"
      },
      "execution_count": 4,
      "outputs": []
    },
    {
      "cell_type": "markdown",
      "source": [
        "# Neural Network Classes\n",
        "Creiamo la classe della rete neurale, le classi delle reti neurali devono ereditare tutte dalla classe `nn.Module` che è la classe di base delle classi delle neural network.\n",
        "\n",
        "\n"
      ],
      "metadata": {
        "id": "COCfyoxoO5_D"
      }
    },
    {
      "cell_type": "code",
      "source": [
        "class Network(nn.Module):\n",
        "  def __init__(self):\n",
        "    super().__init__()\n",
        "    # Immagine 28x28 = 784\n",
        "\n",
        "    # Creiamo delle proprietà per che equivalgono ad ogni layer della rete neurale\n",
        "    # Ogni neurone ha bisono di definire una funzione, noi utilizziamo la funzione Lineare\n",
        "    # La funzione richiede come primo argomento il numero di neuroni in entrata, mentre il secondo paramentro indica i dati di output che devono uscire da ogni neurone\n",
        "    self.inputLayer = nn.Linear(784, 64)\n",
        "    # Ora definiamo\n",
        "    self.hidden1 = nn.Linear(64, 64)\n",
        "    self.hidden2 = nn.Linear(64, 64)\n",
        "    self.ouputLayer = nn.Linear(64, 10)\n",
        "\n",
        "  def forward(self, data):\n",
        "    data = F.relu(self.inputLayer(data))\n",
        "    data = F.relu(self.hidden1(data))\n",
        "    data = F.relu(self.hidden2(data))\n",
        "    data = self.ouputLayer(data)\n",
        "\n",
        "    return F.log_softmax(data, dim=1)"
      ],
      "metadata": {
        "id": "TLGqJqWdLOYE"
      },
      "execution_count": 5,
      "outputs": []
    },
    {
      "cell_type": "code",
      "source": [
        "trainingData = datasets.MNIST(\"\", train=True, download=True, transform=transforms.ToTensor());\n",
        "testingData = datasets.MNIST(\"\", train=False, download=True, transform=transforms.Compose([transforms.ToTensor()]))"
      ],
      "metadata": {
        "id": "1Ktoio6vBrnG"
      },
      "execution_count": 6,
      "outputs": []
    },
    {
      "cell_type": "code",
      "source": [
        "trainSet = torch.utils.data.DataLoader(trainingData, batch_size=10, shuffle=True)\n",
        "testSet = torch.utils.data.DataLoader(testingData, batch_size=10, shuffle=True)"
      ],
      "metadata": {
        "id": "AVv-JIeBHYkO"
      },
      "execution_count": 7,
      "outputs": []
    },
    {
      "cell_type": "markdown",
      "source": [
        "# Instanziamo la rete neurale"
      ],
      "metadata": {
        "id": "XG__CxObzsqX"
      }
    },
    {
      "cell_type": "code",
      "source": [
        "network = Network()"
      ],
      "metadata": {
        "id": "lrmyt-m8zsW2"
      },
      "execution_count": 8,
      "outputs": []
    },
    {
      "cell_type": "markdown",
      "source": [
        "# Learning process\n"
      ],
      "metadata": {
        "id": "3ZxGyt-v05jb"
      }
    },
    {
      "cell_type": "code",
      "source": [
        "learningRate = optim.Adam(network.parameters(), lr=0.01)\n",
        "epochs = 4"
      ],
      "metadata": {
        "id": "qQWvak7V0-vs"
      },
      "execution_count": 9,
      "outputs": []
    },
    {
      "cell_type": "code",
      "source": [
        "for i in range(epochs):\n",
        "  for data in trainSet:\n",
        "    image, output = data\n",
        "    network.zero_grad()\n",
        "    result = network(image.view(-1, 784))\n",
        "    loss = F.nll_loss(result, output)\n",
        "    loss.backward()\n",
        "    learningRate.step()\n",
        "    plt.imshow(image[0].view(28,28))\n",
        "  print(loss)\n",
        "\n",
        "    # print(\"---------------\")\n",
        "    # print(image)\n",
        "    # print(\"---------------\")\n",
        "    # print(output)\n",
        "    # print(\"---------------\")\n",
        "    # break"
      ],
      "metadata": {
        "colab": {
          "base_uri": "https://localhost:8080/"
        },
        "id": "WD4VuQJb2v93",
        "outputId": "a1bb3937-3e8a-469a-c2ea-3f4f11cb3ee0"
      },
      "execution_count": null,
      "outputs": [
        {
          "output_type": "stream",
          "name": "stdout",
          "text": [
            "tensor(0.0702, grad_fn=<NllLossBackward0>)\n",
            "tensor(0.1020, grad_fn=<NllLossBackward0>)\n",
            "tensor(0.0176, grad_fn=<NllLossBackward0>)\n",
            "tensor(0.1517, grad_fn=<NllLossBackward0>)\n"
          ]
        }
      ]
    },
    {
      "cell_type": "code",
      "source": [],
      "metadata": {
        "id": "PgOK9xvf4AjR"
      },
      "execution_count": null,
      "outputs": []
    }
  ]
}
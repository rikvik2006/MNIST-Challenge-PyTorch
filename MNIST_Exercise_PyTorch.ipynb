{
  "cells": [
    {
      "cell_type": "markdown",
      "metadata": {
        "id": "view-in-github",
        "colab_type": "text"
      },
      "source": [
        "<a href=\"https://colab.research.google.com/github/rikvik2006/MNIST-Challenge-PyTorch/blob/master/MNIST_Exercise_PyTorch.ipynb\" target=\"_parent\"><img src=\"https://colab.research.google.com/assets/colab-badge.svg\" alt=\"Open In Colab\"/></a>"
      ]
    },
    {
      "cell_type": "markdown",
      "metadata": {
        "id": "gNYctyXq7TE0"
      },
      "source": [
        "# Installiamo le Dipendenze\n",
        "Di default Google Collab ha gia installato le dipendenze che ci servono"
      ]
    },
    {
      "cell_type": "markdown",
      "metadata": {
        "id": "m2FxZ9v6IOOK"
      },
      "source": [
        "## Imports\n",
        "Importiamo i moduli che ci servono, dobbiamo importare torch, come libreria pricipale e poi la libreria torchvision, e da questa importiamo i 2 package datasets, e transforms"
      ]
    },
    {
      "cell_type": "code",
      "execution_count": null,
      "metadata": {
        "id": "QW38jwIK4DE3"
      },
      "outputs": [],
      "source": [
        "import torch\n",
        "from torchvision import datasets, transforms"
      ]
    },
    {
      "cell_type": "code",
      "execution_count": null,
      "metadata": {
        "id": "S6fmde6oLE4-"
      },
      "outputs": [],
      "source": [
        "import torch.nn as nn\n",
        "import torch.nn.functional as F"
      ]
    },
    {
      "cell_type": "markdown",
      "metadata": {
        "id": "g13eIRtj0MXg"
      },
      "source": [
        "## Import per aggiustare i weights"
      ]
    },
    {
      "cell_type": "code",
      "execution_count": null,
      "metadata": {
        "id": "5qFZs-Mx0GeX"
      },
      "outputs": [],
      "source": [
        "import torch.optim as optim"
      ]
    },
    {
      "cell_type": "markdown",
      "metadata": {
        "id": "MLJ06GUZ5Mx7"
      },
      "source": [
        "Importiamo matploitlib per la visualizzazzione delle immagini"
      ]
    },
    {
      "cell_type": "code",
      "execution_count": null,
      "metadata": {
        "id": "em4G8XqY5UHe"
      },
      "outputs": [],
      "source": [
        "import matplotlib.pyplot as plt"
      ]
    },
    {
      "cell_type": "markdown",
      "metadata": {
        "id": "Z6EojGF2pceP"
      },
      "source": [
        "## Controliamo se la GPU è disponibile"
      ]
    },
    {
      "cell_type": "code",
      "execution_count": null,
      "metadata": {
        "colab": {
          "base_uri": "https://localhost:8080/"
        },
        "id": "KlR6eiO5pcCE",
        "outputId": "6deb8e0a-aba7-4d56-dda0-820ec2b92965"
      },
      "outputs": [
        {
          "name": "stdout",
          "output_type": "stream",
          "text": [
            "🖥️ cpu\n"
          ]
        }
      ],
      "source": [
        "device = torch.device(\"cuda\" if torch.cuda.is_available() else \"cpu\")\n",
        "print(\"🖥️\", device)"
      ]
    },
    {
      "cell_type": "markdown",
      "metadata": {
        "id": "COCfyoxoO5_D"
      },
      "source": [
        "# Neural Network Classes\n",
        "Creiamo la classe della rete neurale, le classi delle reti neurali devono ereditare tutte dalla classe `nn.Module` che è la classe di base delle classi delle neural network.\n",
        "\n",
        "\n"
      ]
    },
    {
      "cell_type": "code",
      "execution_count": null,
      "metadata": {
        "id": "TLGqJqWdLOYE"
      },
      "outputs": [],
      "source": [
        "class Network(nn.Module):\n",
        "  def __init__(self):\n",
        "    super().__init__()\n",
        "    # Immagine 28x28 = 784\n",
        "\n",
        "    # Creiamo delle proprietà per che equivalgono ad ogni layer della rete neurale\n",
        "    # Ogni neurone ha bisono di definire una funzione, noi utilizziamo la funzione Lineare\n",
        "    # La funzione richiede come primo argomento il numero di neuroni in entrata, mentre il secondo paramentro indica i dati di output che devono uscire da ogni neurone\n",
        "    self.inputLayer = nn.Linear(784, 64)\n",
        "    # Ora definiamo\n",
        "    self.hidden1 = nn.Linear(64, 64)  # Hidden 1 richide un tesore con 64 elemneti e restituisce un tesore con 64 elementi\n",
        "    self.hidden2 = nn.Linear(64, 64)\n",
        "    self.ouputLayer = nn.Linear(64, 10)\n",
        "\n",
        "  def forward(self, data):\n",
        "    data = F.relu(self.inputLayer(data))\n",
        "    data = F.relu(self.hidden1(data))\n",
        "    data = F.relu(self.hidden2(data))\n",
        "    data = self.ouputLayer(data)\n",
        "\n",
        "    return F.log_softmax(data, dim=1)"
      ]
    },
    {
      "cell_type": "code",
      "execution_count": null,
      "metadata": {
        "colab": {
          "base_uri": "https://localhost:8080/"
        },
        "id": "1Ktoio6vBrnG",
        "outputId": "1f77afe5-e7b2-4462-f1cd-3b6ad8c4ec19"
      },
      "outputs": [
        {
          "name": "stdout",
          "output_type": "stream",
          "text": [
            "Downloading http://yann.lecun.com/exdb/mnist/train-images-idx3-ubyte.gz\n",
            "Downloading http://yann.lecun.com/exdb/mnist/train-images-idx3-ubyte.gz to MNIST/raw/train-images-idx3-ubyte.gz\n"
          ]
        },
        {
          "name": "stderr",
          "output_type": "stream",
          "text": [
            "100%|██████████| 9912422/9912422 [00:00<00:00, 91673379.88it/s]\n"
          ]
        },
        {
          "name": "stdout",
          "output_type": "stream",
          "text": [
            "Extracting MNIST/raw/train-images-idx3-ubyte.gz to MNIST/raw\n",
            "\n",
            "Downloading http://yann.lecun.com/exdb/mnist/train-labels-idx1-ubyte.gz\n",
            "Downloading http://yann.lecun.com/exdb/mnist/train-labels-idx1-ubyte.gz to MNIST/raw/train-labels-idx1-ubyte.gz\n"
          ]
        },
        {
          "name": "stderr",
          "output_type": "stream",
          "text": [
            "100%|██████████| 28881/28881 [00:00<00:00, 71677925.34it/s]\n"
          ]
        },
        {
          "name": "stdout",
          "output_type": "stream",
          "text": [
            "Extracting MNIST/raw/train-labels-idx1-ubyte.gz to MNIST/raw\n",
            "\n",
            "Downloading http://yann.lecun.com/exdb/mnist/t10k-images-idx3-ubyte.gz\n",
            "Downloading http://yann.lecun.com/exdb/mnist/t10k-images-idx3-ubyte.gz to MNIST/raw/t10k-images-idx3-ubyte.gz\n"
          ]
        },
        {
          "name": "stderr",
          "output_type": "stream",
          "text": [
            "100%|██████████| 1648877/1648877 [00:00<00:00, 29793695.65it/s]\n"
          ]
        },
        {
          "name": "stdout",
          "output_type": "stream",
          "text": [
            "Extracting MNIST/raw/t10k-images-idx3-ubyte.gz to MNIST/raw\n",
            "\n",
            "Downloading http://yann.lecun.com/exdb/mnist/t10k-labels-idx1-ubyte.gz\n",
            "Downloading http://yann.lecun.com/exdb/mnist/t10k-labels-idx1-ubyte.gz to MNIST/raw/t10k-labels-idx1-ubyte.gz\n"
          ]
        },
        {
          "name": "stderr",
          "output_type": "stream",
          "text": [
            "100%|██████████| 4542/4542 [00:00<00:00, 13784753.09it/s]"
          ]
        },
        {
          "name": "stdout",
          "output_type": "stream",
          "text": [
            "Extracting MNIST/raw/t10k-labels-idx1-ubyte.gz to MNIST/raw\n",
            "\n"
          ]
        },
        {
          "name": "stderr",
          "output_type": "stream",
          "text": [
            "\n"
          ]
        }
      ],
      "source": [
        "trainingData = datasets.MNIST(\"\", train=True, download=True, transform=transforms.ToTensor());\n",
        "testingData = datasets.MNIST(\"\", train=False, download=True, transform=transforms.Compose([transforms.ToTensor()]))"
      ]
    },
    {
      "cell_type": "code",
      "execution_count": null,
      "metadata": {
        "id": "AVv-JIeBHYkO"
      },
      "outputs": [],
      "source": [
        "trainSet = torch.utils.data.DataLoader(trainingData, batch_size=10, shuffle=True)\n",
        "testSet = torch.utils.data.DataLoader(testingData, batch_size=10, shuffle=True)"
      ]
    },
    {
      "cell_type": "markdown",
      "metadata": {
        "id": "XG__CxObzsqX"
      },
      "source": [
        "# Instanziamo la rete neurale"
      ]
    },
    {
      "cell_type": "code",
      "execution_count": null,
      "metadata": {
        "id": "lrmyt-m8zsW2"
      },
      "outputs": [],
      "source": [
        "network = Network().to(device)"
      ]
    },
    {
      "cell_type": "markdown",
      "metadata": {
        "id": "3ZxGyt-v05jb"
      },
      "source": [
        "# Learning process\n"
      ]
    },
    {
      "cell_type": "code",
      "execution_count": null,
      "metadata": {
        "id": "qQWvak7V0-vs"
      },
      "outputs": [],
      "source": [
        "learningRate = optim.Adam(network.parameters(), lr=0.01)\n",
        "epochs = 4"
      ]
    },
    {
      "cell_type": "code",
      "execution_count": null,
      "metadata": {
        "colab": {
          "base_uri": "https://localhost:8080/",
          "height": 499
        },
        "id": "WD4VuQJb2v93",
        "outputId": "1a4bf91a-2234-4fa1-8868-6dcab3b6c860"
      },
      "outputs": [
        {
          "name": "stdout",
          "output_type": "stream",
          "text": [
            "🟣 tensor(0.4029, device='cuda:0', grad_fn=<NllLossBackward0>)\n",
            "🟣 tensor(3.1166, device='cuda:0', grad_fn=<NllLossBackward0>)\n",
            "🟣 tensor(0.2646, device='cuda:0', grad_fn=<NllLossBackward0>)\n",
            "🟣 tensor(0.0151, device='cuda:0', grad_fn=<NllLossBackward0>)\n"
          ]
        },
        {
          "data": {
            "image/png": "[encoded data removed]",
            "text/plain": [
              "<Figure size 640x480 with 1 Axes>"
            ]
          },
          "metadata": {},
          "output_type": "display_data"
        }
      ],
      "source": [
        "for i in range(epochs):\n",
        "  for images, labels in trainSet:\n",
        "    # images, labels = data            <----            # Data is a tuple containg the batch, one is an array containg 10 (as the batch size)\n",
        "                                                        # tensor of the images, and the other is an array containg the 10 labels that are the\n",
        "                                                        # numbers write in the images\n",
        "    images, labels = images.to(device), labels.to(device)\n",
        "\n",
        "    network.zero_grad()\n",
        "    outputs = network(images.view(-1, 784))\n",
        "    # print(\"⚪\", result)\n",
        "    # print(\"🔢\", labels)\n",
        "    # print (f\"🧪 ({result.shape} : {labels.shape})\")\n",
        "    loss = F.nll_loss(outputs, labels)\n",
        "    # print(\"🔵\", loss)\n",
        "    loss.backward()\n",
        "    # print(\"🔵\", loss)\n",
        "    learningRate.step()\n",
        "    plt.imshow(images[0].cpu().view(28,28))\n",
        "  print(\"🟣\", loss)\n",
        "\n",
        "    # print(\"---------------\")\n",
        "    # print(image)\n",
        "    # print(\"---------------\")\n",
        "    # print(output)\n",
        "    # print(\"---------------\")\n",
        "    # break"
      ]
    },
    {
      "cell_type": "markdown",
      "metadata": {
        "id": "C3dDDCZRReeS"
      },
      "source": [
        "# Salviamo i pesi del modello"
      ]
    },
    {
      "cell_type": "code",
      "execution_count": null,
      "metadata": {
        "id": "5Orz9eO3sOC3"
      },
      "outputs": [],
      "source": [
        "weight_version = 0"
      ]
    },
    {
      "cell_type": "code",
      "execution_count": null,
      "metadata": {
        "colab": {
          "base_uri": "https://localhost:8080/"
        },
        "id": "CL3HtDJqsKD1",
        "outputId": "4cb337d5-8956-4d7a-e919-b775c3f0b527"
      },
      "outputs": [
        {
          "name": "stdout",
          "output_type": "stream",
          "text": [
            "Pesi del modello salvati.\n"
          ]
        }
      ],
      "source": [
        "# Salva i pesi del modello in un file (cwd: /content)\n",
        "weight_version += 1\n",
        "torch.save(network.state_dict(), f'MNIST_model_weights.pth.v{weight_version}')\n",
        "print(\"Pesi del modello salvati.\")"
      ]
    },
    {
      "cell_type": "markdown",
      "metadata": {
        "id": "55lJPaGmRiW1"
      },
      "source": [
        "# Carichiamo i pesi del modello"
      ]
    },
    {
      "cell_type": "code",
      "execution_count": 78,
      "metadata": {
        "colab": {
          "base_uri": "https://localhost:8080/"
        },
        "id": "dC2jOfNURkOu",
        "outputId": "fc9fcd53-5da6-4051-b20b-f9db03209979"
      },
      "outputs": [
        {
          "output_type": "stream",
          "name": "stdout",
          "text": [
            "Pesi del modello caricati.\n"
          ]
        }
      ],
      "source": [
        "# Carica i pesi del modello da un file\n",
        "network.load_state_dict(torch.load('MNIST_model_weights.pth', map_location=device))\n",
        "print(\"Pesi del modello caricati.\")"
      ]
    },
    {
      "cell_type": "code",
      "execution_count": 79,
      "metadata": {
        "colab": {
          "base_uri": "https://localhost:8080/"
        },
        "id": "PgOK9xvf4AjR",
        "outputId": "c998ce92-1815-464d-d365-2f89c0a054b5"
      },
      "outputs": [
        {
          "output_type": "stream",
          "name": "stdout",
          "text": [
            "Accuracy 0.9317, Accuracy Percetage 93.17%\n"
          ]
        }
      ],
      "source": [
        "correct = 0\n",
        "total = 0\n",
        "\n",
        "with torch.no_grad():\n",
        "  for images, labels in testSet:\n",
        "    images, labels = images.to(device), labels.to(device)\n",
        "    # print(\"🟩\", images)\n",
        "    # print(\"🔢\", labels)\n",
        "    result = network(images.view(-1, 784))\n",
        "    # print(\"⚪\", result)\n",
        "    for index, tensorValue in enumerate(result):\n",
        "      total += 1\n",
        "      if torch.argmax(tensorValue) == labels[index]:\n",
        "        correct += 1\n",
        "\n",
        "accuracy = correct / total\n",
        "accuracyPercentage = accuracy * 100\n",
        "print(f\"Accuracy {accuracy}, Accuracy Percetage {accuracyPercentage}%\")"
      ]
    },
    {
      "cell_type": "markdown",
      "metadata": {
        "id": "aXxdLE4rljVJ"
      },
      "source": [
        "# Predizione di immagini custom\n",
        "Importiamo Pillow e numpy, questo serve per modificare le immagini create da noi in modo tale che siano pronte per passare attraverso la nostra rete neurale.\n",
        "\n",
        "Con pillow prediamo l'immagine dal file system e la modifichiamo. Con numpy trasformiamo l'immagine (PIL.Image) in un array numpy (np.array), la funzione np.array supporta le immagine PIL e quindi riusiamo a convertirla in una array.\n",
        "Normaliziamo anche l'immagine tra 0 e 1 dividendo la matrice per 255.\n"
      ]
    },
    {
      "cell_type": "code",
      "source": [
        "from PIL import Image\n",
        "import PIL.ImageOps\n",
        "import numpy as np"
      ],
      "metadata": {
        "id": "VKAcB8dCXv1i"
      },
      "execution_count": 80,
      "outputs": []
    },
    {
      "cell_type": "code",
      "execution_count": 92,
      "metadata": {
        "colab": {
          "base_uri": "https://localhost:8080/",
          "height": 465
        },
        "id": "y8V0AjVSlwp5",
        "outputId": "dd7cc6dd-dd73-47b7-875f-b81deb22ee70"
      },
      "outputs": [
        {
          "output_type": "stream",
          "name": "stdout",
          "text": [
            "tensor(5)\n",
            "Predicted number: 5\n"
          ]
        },
        {
          "output_type": "display_data",
          "data": {
            "text/plain": [
              "<Figure size 640x480 with 1 Axes>"
            ],
            "image/png": "[encoded data removed]"
          },
          "metadata": {}
        }
      ],
      "source": [
        "network.eval()\n",
        "image = Image.open(\"imgSite3.png\")\n",
        "image = image.resize((28, 28))     # Resize the image and convert to grayscale\n",
        "image = image.convert(\"L\")\n",
        "image = PIL.ImageOps.invert(image)\n",
        "\n",
        "plt.imshow(image)\n",
        "\n",
        "image = np.array(image)\n",
        "image = image / 255                               # Normalize the array image beetween 0 and 1\n",
        "image = torch.from_numpy(image)                   # Transform the numpy array in a torch tensor\n",
        "image = image.float()\n",
        "image = image.to(device)                          # Convert the tensor to a float tensor\n",
        "\n",
        "with torch.no_grad():\n",
        "  result = network.forward(image.view(-1, 28*28)) # Change the shape of a tensor in a matrix with \"n\" array with 28*28 elements\n",
        "  prediction = torch.argmax(result)\n",
        "  print(prediction)\n",
        "  predicted_number = prediction.item()\n",
        "  print(\"Predicted number:\", predicted_number)"
      ]
    },
    {
      "cell_type": "markdown",
      "metadata": {
        "id": "dZf3le9LXASB"
      },
      "source": [
        "# API per la comunicazione con l'interfaccia WEB"
      ]
    },
    {
      "cell_type": "code",
      "execution_count": null,
      "metadata": {
        "colab": {
          "base_uri": "https://localhost:8080/"
        },
        "id": "Rg1_qnElXVdZ",
        "outputId": "48202b9e-88eb-4eb9-a899-8069aee0b311"
      },
      "outputs": [
        {
          "name": "stdout",
          "output_type": "stream",
          "text": [
            "\u001b[2K     \u001b[90m━━━━━━━━━━━━━━━━━━━━━━━━━━━━━━━━━━━━━━━\u001b[0m \u001b[32m66.2/66.2 kB\u001b[0m \u001b[31m755.1 kB/s\u001b[0m eta \u001b[36m0:00:00\u001b[0m\n",
            "\u001b[2K     \u001b[90m━━━━━━━━━━━━━━━━━━━━━━━━━━━━━━━━━━━━━━━━\u001b[0m \u001b[32m67.0/67.0 kB\u001b[0m \u001b[31m2.8 MB/s\u001b[0m eta \u001b[36m0:00:00\u001b[0m\n",
            "\u001b[2K     \u001b[90m━━━━━━━━━━━━━━━━━━━━━━━━━━━━━━━━━━━━━━━━\u001b[0m \u001b[32m75.4/75.4 kB\u001b[0m \u001b[31m6.0 MB/s\u001b[0m eta \u001b[36m0:00:00\u001b[0m\n",
            "\u001b[2K     \u001b[90m━━━━━━━━━━━━━━━━━━━━━━━━━━━━━━━━━━━━━━\u001b[0m \u001b[32m138.7/138.7 kB\u001b[0m \u001b[31m10.7 MB/s\u001b[0m eta \u001b[36m0:00:00\u001b[0m\n",
            "\u001b[2K     \u001b[90m━━━━━━━━━━━━━━━━━━━━━━━━━━━━━━━━━━━━━━━━\u001b[0m \u001b[32m45.7/45.7 kB\u001b[0m \u001b[31m1.6 MB/s\u001b[0m eta \u001b[36m0:00:00\u001b[0m\n",
            "\u001b[2K     \u001b[90m━━━━━━━━━━━━━━━━━━━━━━━━━━━━━━━━━━━━━━━━\u001b[0m \u001b[32m53.9/53.9 kB\u001b[0m \u001b[31m4.5 MB/s\u001b[0m eta \u001b[36m0:00:00\u001b[0m\n",
            "\u001b[2K     \u001b[90m━━━━━━━━━━━━━━━━━━━━━━━━━━━━━━━━━━━━━━━━\u001b[0m \u001b[32m59.5/59.5 kB\u001b[0m \u001b[31m3.2 MB/s\u001b[0m eta \u001b[36m0:00:00\u001b[0m\n",
            "\u001b[2K     \u001b[90m━━━━━━━━━━━━━━━━━━━━━━━━━━━━━━━━━━━━━━\u001b[0m \u001b[32m300.4/300.4 kB\u001b[0m \u001b[31m13.3 MB/s\u001b[0m eta \u001b[36m0:00:00\u001b[0m\n",
            "\u001b[2K     \u001b[90m━━━━━━━━━━━━━━━━━━━━━━━━━━━━━━━━━━━━━━━━\u001b[0m \u001b[32m74.5/74.5 kB\u001b[0m \u001b[31m6.2 MB/s\u001b[0m eta \u001b[36m0:00:00\u001b[0m\n",
            "\u001b[2K     \u001b[90m━━━━━━━━━━━━━━━━━━━━━━━━━━━━━━━━━━━━━━━━\u001b[0m \u001b[32m58.3/58.3 kB\u001b[0m \u001b[31m4.9 MB/s\u001b[0m eta \u001b[36m0:00:00\u001b[0m\n",
            "\u001b[2K     \u001b[90m━━━━━━━━━━━━━━━━━━━━━━━━━━━━━━━━━━━━━━\u001b[0m \u001b[32m428.8/428.8 kB\u001b[0m \u001b[31m25.2 MB/s\u001b[0m eta \u001b[36m0:00:00\u001b[0m\n",
            "\u001b[2K     \u001b[90m━━━━━━━━━━━━━━━━━━━━━━━━━━━━━━━━━━━━━━━━\u001b[0m \u001b[32m4.1/4.1 MB\u001b[0m \u001b[31m30.3 MB/s\u001b[0m eta \u001b[36m0:00:00\u001b[0m\n",
            "\u001b[2K     \u001b[90m━━━━━━━━━━━━━━━━━━━━━━━━━━━━━━━━━━━━━━━━\u001b[0m \u001b[32m1.3/1.3 MB\u001b[0m \u001b[31m40.8 MB/s\u001b[0m eta \u001b[36m0:00:00\u001b[0m\n",
            "\u001b[2K     \u001b[90m━━━━━━━━━━━━━━━━━━━━━━━━━━━━━━━━━━━━━━\u001b[0m \u001b[32m129.9/129.9 kB\u001b[0m \u001b[31m11.7 MB/s\u001b[0m eta \u001b[36m0:00:00\u001b[0m\n",
            "\u001b[2K     \u001b[90m━━━━━━━━━━━━━━━━━━━━━━━━━━━━━━━━━━━━━━━\u001b[0m \u001b[32m681.2/681.2 kB\u001b[0m \u001b[31m6.1 MB/s\u001b[0m eta \u001b[36m0:00:00\u001b[0m\n",
            "\u001b[?25h  Preparing metadata (setup.py) ... \u001b[?25l\u001b[?25hdone\n",
            "  Building wheel for pyngrok (setup.py) ... \u001b[?25l\u001b[?25hdone\n"
          ]
        }
      ],
      "source": [
        "!pip install \"fastapi[all]\"  -q\n",
        "!pip install 'uvicorn[standard]' -q\n",
        "!pip install pyngrok -q\n",
        "!pip install nest_asyncio -q"
      ]
    },
    {
      "cell_type": "code",
      "execution_count": 94,
      "metadata": {
        "id": "f17EcN_WXWM3"
      },
      "outputs": [],
      "source": [
        "from fastapi import FastAPI\n",
        "from fastapi.middleware.cors import CORSMiddleware\n",
        "from pydantic import BaseModel\n",
        "import uvicorn\n",
        "from pyngrok import ngrok, conf\n",
        "import nest_asyncio\n",
        "import base64\n",
        "from io import BytesIO"
      ]
    },
    {
      "cell_type": "code",
      "execution_count": 95,
      "metadata": {
        "id": "340F9eTXXbjD"
      },
      "outputs": [],
      "source": [
        "app = FastAPI()"
      ]
    },
    {
      "cell_type": "code",
      "source": [
        "app.add_middleware(\n",
        "    CORSMiddleware ,\n",
        "    allow_origins=[\"*\"],\n",
        "    allow_credentials=True,\n",
        "    allow_methods=[\"*\"],\n",
        "    allow_headers=[\"*\"],\n",
        ")"
      ],
      "metadata": {
        "id": "5CFP-IhWSiqU"
      },
      "execution_count": 96,
      "outputs": []
    },
    {
      "cell_type": "code",
      "execution_count": 97,
      "metadata": {
        "id": "Tb4wLVY-lA6O"
      },
      "outputs": [],
      "source": [
        "@app.get(\"/\")\n",
        "def root() -> None:\n",
        "  return { \"msg\": \"Base url\" }"
      ]
    },
    {
      "cell_type": "markdown",
      "metadata": {
        "id": "3nLmrur1oevK"
      },
      "source": [
        "## Enpoint per la predizione delle immagini"
      ]
    },
    {
      "cell_type": "code",
      "execution_count": 98,
      "metadata": {
        "id": "rwuXz2H1oiYW"
      },
      "outputs": [],
      "source": [
        "class ImageBody(BaseModel):\n",
        "  buffer: str"
      ]
    },
    {
      "cell_type": "code",
      "execution_count": 99,
      "metadata": {
        "id": "OIRsm6gTKZjI"
      },
      "outputs": [],
      "source": [
        "imageNumber = 0\n",
        "@app.post(\"/api/predict\")\n",
        "def predict_image(image: ImageBody) -> dict[str, int]:\n",
        "  print(\"⚪\", image)\n",
        "  print(image.buffer)\n",
        "\n",
        "  image_data = image.buffer.replace(\"data:image/png;base64,\", \"\")\n",
        "  decoded_image_data = base64.b64decode(image_data)\n",
        "\n",
        "  image = Image.open(BytesIO(decoded_image_data))\n",
        "\n",
        "  # imageNumber += 1\n",
        "  # img.save(f\"imageN{imageNumber}\")\n",
        "\n",
        "  network.eval()\n",
        "  image = image.resize((28, 28))     # Resize the image and convert to grayscale\n",
        "  image = image.convert(\"L\")\n",
        "\n",
        "  # The image whe seed from the client is drawn white on black, so we don't need to invert\n",
        "  # image = PIL.ImageOps.invert(image)\n",
        "\n",
        "  image = np.array(image)\n",
        "  image = image / 255                               # Normalize the array image beetween 0 and 1\n",
        "  image = torch.from_numpy(image)                   # Transform the numpy array in a torch tensor\n",
        "  image = image.float()\n",
        "  image = image.to(device)                          # Convert the tensor to a float tensor\n",
        "\n",
        "  with torch.no_grad():\n",
        "    result = network.forward(image.view(-1, 28*28)) # Change the shape of a tensor in a matrix with \"n\" array with 28*28 elements\n",
        "    prediction = torch.argmax(result)\n",
        "    print(prediction)\n",
        "    predicted_number = prediction.item()\n",
        "    print(\"Predicted number:\", predicted_number)\n",
        "    # print(\"Probs:\", result[predicted_number])\n",
        "    return { \"predicted\": predicted_number }"
      ]
    },
    {
      "cell_type": "markdown",
      "metadata": {
        "id": "zA4WrGHrnffO"
      },
      "source": [
        "# NGROK Server"
      ]
    },
    {
      "cell_type": "code",
      "execution_count": 100,
      "metadata": {
        "colab": {
          "base_uri": "https://localhost:8080/"
        },
        "id": "RXDUabQ4nfPt",
        "outputId": "72e96da0-bd5f-470d-ef47-91fcdf1b793a"
      },
      "outputs": [
        {
          "output_type": "stream",
          "name": "stderr",
          "text": [
            "WARNING:pyngrok.process.ngrok:t=2023-09-08T16:01:08+0000 lvl=warn msg=\"ngrok config file found at legacy location, move to XDG location\" xdg_path=/root/.config/ngrok/ngrok.yml legacy_path=/root/.ngrok2/ngrok.yml\n"
          ]
        },
        {
          "output_type": "stream",
          "name": "stdout",
          "text": [
            "🔗 Public URL: https://4677-35-226-26-38.ngrok-free.app\n"
          ]
        },
        {
          "output_type": "stream",
          "name": "stderr",
          "text": [
            "INFO:     Started server process [417]\n",
            "INFO:     Waiting for application startup.\n",
            "INFO:     Application startup complete.\n",
            "INFO:     Uvicorn running on http://127.0.0.1:3001 (Press CTRL+C to quit)\n"
          ]
        },
        {
          "output_type": "stream",
          "name": "stdout",
          "text": [
            "INFO:     87.5.170.82:0 - \"GET /docs HTTP/1.1\" 200 OK\n",
            "INFO:     87.5.170.82:0 - \"GET /openapi.json HTTP/1.1\" 200 OK\n",
            "⚪ buffer='data:image/png;base64,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'\n",
            "data:image/png;base64,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\n",
            "tensor(3)\n",
            "Predicted number: 3\n",
            "INFO:     87.5.170.82:0 - \"POST /api/predict HTTP/1.1\" 200 OK\n",
            "INFO:     87.5.170.82:0 - \"POST /api/predict HTTP/1.1\" 422 Unprocessable Entity\n",
            "INFO:     87.5.170.82:0 - \"POST /api/predict HTTP/1.1\" 422 Unprocessable Entity\n",
            "INFO:     87.5.170.82:0 - \"OPTIONS /api/predict HTTP/1.1\" 200 OK\n",
            "⚪ buffer='data:image/png;base64,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'\n",
            "data:image/png;base64,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\n",
            "tensor(3)\n",
            "Predicted number: 3\n",
            "INFO:     87.5.170.82:0 - \"POST /api/predict HTTP/1.1\" 200 OK\n"
          ]
        },
        {
          "output_type": "stream",
          "name": "stderr",
          "text": [
            "INFO:     Shutting down\n",
            "INFO:     Waiting for application shutdown.\n",
            "INFO:     Application shutdown complete.\n",
            "INFO:     Finished server process [417]\n"
          ]
        }
      ],
      "source": [
        "ngrok.set_auth_token(\"2Uhz6hu4FEfQhc9qmjfh1OIF1RY_2hwRT821sW6t1tz8LVbc7\")\n",
        "ngrok_tunnel = ngrok.connect(3001)\n",
        "print(\"🔗 Public URL:\", ngrok_tunnel.public_url)\n",
        "nest_asyncio.apply()\n",
        "uvicorn.run(app, port=3001)"
      ]
    }
  ],
  "metadata": {
    "colab": {
      "provenance": [],
      "include_colab_link": true
    },
    "kernelspec": {
      "display_name": "Python 3",
      "name": "python3"
    },
    "language_info": {
      "name": "python"
    }
  },
  "nbformat": 4,
  "nbformat_minor": 0
}